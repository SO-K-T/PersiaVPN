{
 "cells": [
  {
   "cell_type": "code",
   "execution_count": 1,
   "id": "9ae1c133",
   "metadata": {},
   "outputs": [
    {
     "name": "stdout",
     "output_type": "stream",
     "text": [
      "1\n",
      "2\n"
     ]
    }
   ],
   "source": [
    "#012 Question Series 1 \n",
    "\n",
    "#Alternative Answer / پاسخ جایگزین\n",
    "#firstNum = input(\"please enter the first number:\")\n",
    "#secondNum = input(\"please enter the second number:\")\n",
    "\n",
    "firstNum = 1\n",
    "secondNum = 2\n",
    "\n",
    "if firstNum > secondNum:\n",
    "    print(secondNum);\n",
    "    print(firstNum);\n",
    "else:\n",
    "    print(firstNum);\n",
    "    print(secondNum);\n",
    "    "
   ]
  },
  {
   "cell_type": "code",
   "execution_count": 5,
   "id": "931e7eb9",
   "metadata": {},
   "outputs": [
    {
     "name": "stdout",
     "output_type": "stream",
     "text": [
      "please enter a number under 20:21\n",
      "Too high!\n"
     ]
    }
   ],
   "source": [
    "#013 Question Series 1 \n",
    "\n",
    "userNumStr = input(\"please enter a number under 20:\")\n",
    "userNum = int(userNumStr)\n",
    "\n",
    "if userNum >= 20:\n",
    "    print('Too high!');\n",
    "else:\n",
    "    print('Thank you')\n",
    "    "
   ]
  },
  {
   "cell_type": "code",
   "execution_count": null,
   "id": "f649a535",
   "metadata": {},
   "outputs": [],
   "source": [
    "#014 Question Series 1 \n",
    "\n",
    "userNumStr = input(\"please enter a number with the range of [10:20]:\")\n",
    "userNum = int(userNumStr)\n",
    "\n",
    "#Alternative Answer / پاسخ جایگزین\n",
    "#if 10 <= userNum <= 20:\n",
    "\n",
    "if 10 <= userNum and userNum <= 20:\n",
    "\n",
    "    print('Thank you');\n",
    "else:\n",
    "    print('Incorrect answer')\n",
    "    "
   ]
  },
  {
   "cell_type": "code",
   "execution_count": null,
   "id": "4a51d3ec",
   "metadata": {},
   "outputs": [],
   "source": [
    "#015 Question\n",
    "\n",
    "userColor = input(\"please enter your favourite color:\")\n",
    "\n",
    "if  userColor == 'red':\n",
    "    print('I like red too');\n",
    "else:\n",
    "    print(f'I dont like {userColor.lower()}, i like red')\n",
    "    "
   ]
  },
  {
   "cell_type": "code",
   "execution_count": null,
   "id": "19976541",
   "metadata": {},
   "outputs": [],
   "source": [
    "#016 Question Series 1 \n",
    "\n",
    "userRainQ = input(\"Is it raining today ?\")\n",
    "\n",
    "if  userRainQ.lower() == 'yes':\n",
    "    userWindQ = input(\"Is it windy today ?\")\n",
    "    if  userWindQ.lower() == 'yes':\n",
    "        print('It is too wind for an umbrella.');\n",
    "    else:\n",
    "        print('Take an umbrella');\n",
    "else:\n",
    "    print('Enjoy your day')\n",
    "    "
   ]
  },
  {
   "cell_type": "code",
   "execution_count": 21,
   "id": "2c404f76",
   "metadata": {},
   "outputs": [
    {
     "name": "stdout",
     "output_type": "stream",
     "text": [
      "How Old Are you?13\n",
      "You can can go trick or treating\n"
     ]
    }
   ],
   "source": [
    "#017 Question Series 1 \n",
    "\n",
    "userAge= input(\"How Old Are you?\")\n",
    "userAge = int(userAge)\n",
    "\n",
    "\n",
    "if  userAge >= 18 :\n",
    "    print('You can Vote');\n",
    "elif userAge == 17:\n",
    "    print('You can Learn to drive')\n",
    "elif userAge == 16:\n",
    "    print('You can buy a lottery ticket')\n",
    "elif userAge < 16:\n",
    "    print('You can can go trick or treating')\n",
    "    \n",
    "    "
   ]
  },
  {
   "cell_type": "code",
   "execution_count": 24,
   "id": "59279856",
   "metadata": {},
   "outputs": [
    {
     "name": "stdout",
     "output_type": "stream",
     "text": [
      "please enter a number :20\n",
      "Too high\n"
     ]
    }
   ],
   "source": [
    "#018 Question Series 1 \n",
    "\n",
    "userNumStr = input(\"please enter a number with the range of (10:20):\")\n",
    "userNum = int(userNumStr)\n",
    "\n",
    "#Alternative Answer / پاسخ جایگزین\n",
    "#if 10 < userNum < 20:\n",
    "\n",
    "if 10 < userNum and userNum < 20:\n",
    "    print('Correct');\n",
    "elif 10 > userNum:\n",
    "    print('Too low')\n",
    "else :\n",
    "    print('Too high')\n",
    "    "
   ]
  },
  {
   "cell_type": "code",
   "execution_count": 36,
   "id": "cbd1df2f",
   "metadata": {},
   "outputs": [
    {
     "name": "stdout",
     "output_type": "stream",
     "text": [
      "please enter 1 or 2 or 3 :10\n",
      "Error message\n"
     ]
    }
   ],
   "source": [
    "#019 Question Series 1 \n",
    "\n",
    "userNumStr = input(\"please enter 1 or 2 or 3 :\")\n",
    "userNum = int(userNumStr)\n",
    "\n",
    "\n",
    "if  userNum == 1:\n",
    "    print('Thank you');\n",
    "elif  userNum == 2:\n",
    "    print('Well done');\n",
    "elif  userNum == 3:\n",
    "    print('Correct');\n",
    "else :\n",
    "    print('Error message');\n",
    "    "
   ]
  },
  {
   "cell_type": "code",
   "execution_count": 5,
   "id": "60e76df7",
   "metadata": {},
   "outputs": [
    {
     "name": "stdout",
     "output_type": "stream",
     "text": [
      "please enter your name:sad\n",
      "sad\n",
      "sad\n",
      "sad\n"
     ]
    }
   ],
   "source": [
    "#035 Question Series 2 \n",
    "\n",
    "userName = input(\"please enter your name:\")\n",
    "\n",
    "for i in range(3):\n",
    "    print(userName);\n",
    "\n",
    "    "
   ]
  },
  {
   "cell_type": "code",
   "execution_count": 4,
   "id": "540afa79",
   "metadata": {},
   "outputs": [
    {
     "name": "stdout",
     "output_type": "stream",
     "text": [
      "please enter your name:sad\n",
      "please how many times to repeat your name:3\n",
      "sad\n",
      "sad\n",
      "sad\n"
     ]
    }
   ],
   "source": [
    "#036 Question Series 2 \n",
    "\n",
    "userName = input(\"please enter your name:\")\n",
    "userNameRepeat = int(input(\"please how many times to repeat your name:\"))\n",
    "\n",
    "for i in range(userNameRepeat):\n",
    "    print(userName);\n",
    "\n",
    "    "
   ]
  },
  {
   "cell_type": "code",
   "execution_count": 4,
   "id": "efc2db32",
   "metadata": {},
   "outputs": [
    {
     "name": "stdout",
     "output_type": "stream",
     "text": [
      "please enter your name:sad\n",
      "s\n",
      "a\n",
      "d\n"
     ]
    }
   ],
   "source": [
    "#037 Question Series 2 \n",
    "\n",
    "userName = input(\"please enter your name:\")\n",
    "\n",
    "for i in range(len(userName)):\n",
    "    print(userName[i]);\n",
    "\n",
    "    "
   ]
  },
  {
   "cell_type": "code",
   "execution_count": 2,
   "id": "5c014f6e",
   "metadata": {},
   "outputs": [
    {
     "name": "stdout",
     "output_type": "stream",
     "text": [
      "please enter your name:ABC\n",
      "please how many times to repeat your name:3\n",
      "A\n",
      "B\n",
      "C\n",
      "A\n",
      "B\n",
      "C\n",
      "A\n",
      "B\n",
      "C\n"
     ]
    }
   ],
   "source": [
    "#038 Question Series 2 \n",
    "\n",
    "userName = input(\"please enter your name:\")\n",
    "userNameRepeat = int(input(\"please how many times to repeat your name:\"))\n",
    "\n",
    "for i in range(userNameRepeat):\n",
    "    for i in range(len(userName)):\n",
    "        print(userName[i]);\n",
    "\n",
    "    "
   ]
  },
  {
   "cell_type": "code",
   "execution_count": 15,
   "id": "e309382d",
   "metadata": {},
   "outputs": [
    {
     "name": "stdout",
     "output_type": "stream",
     "text": [
      "Enter a number between 1 and 12:6\n",
      "1 * 6 = 6\n",
      "2 * 6 = 12\n",
      "3 * 6 = 18\n",
      "4 * 6 = 24\n",
      "5 * 6 = 30\n",
      "6 * 6 = 36\n",
      "7 * 6 = 42\n",
      "8 * 6 = 48\n",
      "9 * 6 = 54\n",
      "10 * 6 = 60\n"
     ]
    }
   ],
   "source": [
    "#039 Question Series 2 \n",
    "\n",
    "\n",
    "userNumber = int(input(\"Enter a number between 1 and 12:\"))\n",
    "\n",
    "if 1 < userNumber < 12 :\n",
    "    for i in range(10) :\n",
    "        print(f'{i + 1} * {userNumber} = {(i +1) * userNumber}')\n",
    "else : \n",
    "    print('please enter only a number between 1 and 12')"
   ]
  },
  {
   "cell_type": "code",
   "execution_count": 19,
   "id": "429dfd39",
   "metadata": {},
   "outputs": [
    {
     "name": "stdout",
     "output_type": "stream",
     "text": [
      "Enter a number below 50:3\n",
      "3\n",
      "4\n",
      "5\n",
      "6\n",
      "7\n",
      "8\n",
      "9\n",
      "10\n",
      "11\n",
      "12\n",
      "13\n",
      "14\n",
      "15\n",
      "16\n",
      "17\n",
      "18\n",
      "19\n",
      "20\n",
      "21\n",
      "22\n",
      "23\n",
      "24\n",
      "25\n",
      "26\n",
      "27\n",
      "28\n",
      "29\n",
      "30\n",
      "31\n",
      "32\n",
      "33\n",
      "34\n",
      "35\n",
      "36\n",
      "37\n",
      "38\n",
      "39\n",
      "40\n",
      "41\n",
      "42\n",
      "43\n",
      "44\n",
      "45\n",
      "46\n",
      "47\n",
      "48\n",
      "49\n",
      "50\n"
     ]
    }
   ],
   "source": [
    "#040 Question Series 2 \n",
    "\n",
    "\n",
    "userNumber = int(input(\"Enter a number below 50:\"))\n",
    "\n",
    "if userNumber < 50:\n",
    "    for i in range(50 - userNumber + 1) :\n",
    "        print(userNumber + i)\n"
   ]
  },
  {
   "cell_type": "code",
   "execution_count": 21,
   "id": "49e95e76",
   "metadata": {},
   "outputs": [
    {
     "name": "stdout",
     "output_type": "stream",
     "text": [
      "please enter your name:sad\n",
      "Enter a number :20\n",
      "Too high\n",
      "Too high\n",
      "Too high\n"
     ]
    }
   ],
   "source": [
    "#041 Question Series 2 \n",
    "\n",
    "userName = input(\"please enter your name:\")\n",
    "userNumber = int(input(\"Enter a number :\"))\n",
    "\n",
    "if userNumber < 10:\n",
    "    for i in range(userNumber) :\n",
    "        print(userName)\n",
    "else : \n",
    "    for i in range(3) :\n",
    "        print('Too high')\n"
   ]
  },
  {
   "cell_type": "code",
   "execution_count": 3,
   "id": "a0823719",
   "metadata": {},
   "outputs": [
    {
     "name": "stdout",
     "output_type": "stream",
     "text": [
      "Enter 5 numbers:1\n",
      "do you want this number included?:yes\n",
      "Enter 5 numbers:1\n",
      "do you want this number included?:yes\n",
      "Enter 5 numbers:1\n",
      "do you want this number included?:yes\n",
      "Enter 5 numbers:1\n",
      "do you want this number included?:yes\n",
      "Enter 5 numbers:1\n",
      "do you want this number included?:yes\n",
      "5\n"
     ]
    }
   ],
   "source": [
    "#042 Question Series 2 \n",
    "\n",
    "total = 0 \n",
    "\n",
    "for i in range(5) :\n",
    "    userNumber = int(input(\"Enter 5 numbers:\"))\n",
    "    userAnswer = input(\"do you want this number included?:\").lower()\n",
    "    if userAnswer == 'yes' : \n",
    "        total += userNumber\n",
    "print(total)\n",
    "\n"
   ]
  },
  {
   "cell_type": "code",
   "execution_count": 23,
   "id": "08f4d909",
   "metadata": {},
   "outputs": [
    {
     "name": "stdout",
     "output_type": "stream",
     "text": [
      "which direction to count, down or up ?:up\n",
      "Your Top number is:20\n",
      "1\n",
      "2\n",
      "3\n",
      "4\n",
      "5\n",
      "6\n",
      "7\n",
      "8\n",
      "9\n",
      "10\n",
      "11\n",
      "12\n",
      "13\n",
      "14\n",
      "15\n",
      "16\n",
      "17\n",
      "18\n",
      "19\n",
      "20\n"
     ]
    }
   ],
   "source": [
    "#043 Question Series 2 \n",
    "\n",
    "userCountDir = input(\"which direction to count, down or up ?:\").lower()\n",
    "\n",
    "if userCountDir == 'up':\n",
    "    userTopNum = int(input(\"Your Top number is:\"))\n",
    "    for i in range(userTopNum) :\n",
    "        print(i + 1)\n",
    "elif userCountDir == 'down':\n",
    "    userDownNum = int(input(\"enter a number below 20:\"))\n",
    "    if userDownNum < 20:\n",
    "        for i in range(20 - userDownNum + 1) :\n",
    "            print(20 - i)"
   ]
  },
  {
   "cell_type": "code",
   "execution_count": 25,
   "id": "d5f9c6bd",
   "metadata": {},
   "outputs": [
    {
     "name": "stdout",
     "output_type": "stream",
     "text": [
      "How many people are you going to invite to the party?:2\n",
      "What are the names for your guest?:sam\n",
      "sam has been invited\n",
      "What are the names for your guest?:alice\n",
      "alice has been invited\n"
     ]
    }
   ],
   "source": [
    "#044 Question Series 2 \n",
    "\n",
    "userPartyNum = int(input(\"How many people are you going to invite to the party?:\"))\n",
    "\n",
    "if userPartyNum < 10: \n",
    "    for i in range(userPartyNum) :\n",
    "        userGuestName = input(\"What are the names for your guest?:\").lower()\n",
    "        print(f'{userGuestName} has been invited')\n",
    "else : \n",
    "    print('Too many people')"
   ]
  },
  {
   "cell_type": "code",
   "execution_count": 27,
   "id": "08ad7b76",
   "metadata": {},
   "outputs": [
    {
     "name": "stdout",
     "output_type": "stream",
     "text": [
      "Enter a number:5\n",
      "the total is 5\n",
      "Enter a number:35\n",
      "the total is 40\n",
      "Enter a number:5\n",
      "the total is 45\n",
      "Enter a number:5\n",
      "the total is 50\n",
      "Enter a number:5\n",
      "the total is 55\n"
     ]
    }
   ],
   "source": [
    "#045 Question Series 3 \n",
    "\n",
    "total = 0\n",
    "\n",
    "while total <= 50 :\n",
    "    userNumber = int(input(\"Enter a number:\"))\n",
    "    total += userNumber\n",
    "    print(f'the total is {total}')\n"
   ]
  },
  {
   "cell_type": "code",
   "execution_count": 15,
   "id": "cc9e5d20",
   "metadata": {},
   "outputs": [
    {
     "name": "stdout",
     "output_type": "stream",
     "text": [
      "Enter a number:4\n",
      "sad\n",
      "the last number you entered is 5\n"
     ]
    }
   ],
   "source": [
    "#046 Question Series 3 \n",
    "\n",
    "userNumber = 0\n",
    "\n",
    "while userNumber < 5 :\n",
    "    userNumber = int(input(\"Enter a number:\"))\n",
    "    userNumber += 1    \n",
    "    print('sad')\n",
    "\n",
    "print(f'the last number you entered is {userNumber}')\n"
   ]
  },
  {
   "cell_type": "code",
   "execution_count": 19,
   "id": "b0d5ed86",
   "metadata": {},
   "outputs": [
    {
     "name": "stdout",
     "output_type": "stream",
     "text": [
      "Enter a number:1\n",
      "Enter another number:1\n",
      "do you want to add another number y/n ?:n\n",
      "2\n"
     ]
    }
   ],
   "source": [
    "#047 Question Series 3 \n",
    "\n",
    "total = 0\n",
    "\n",
    "userNumber1 = int(input(\"Enter a number:\"))\n",
    "userNumber2 = int(input(\"Enter another number:\"))\n",
    "total = userNumber1 + userNumber2\n",
    "\n",
    "userAnswer = input(\"do you want to add another number y/n ?:\").lower()\n",
    "while userAnswer.lower() == 'y':\n",
    "    userNumberWhile = int(input(\"Enter another number:\"))\n",
    "    total += userNumberWhile\n",
    "    userAnswer = input(\"do you want to add another number y/n ?:\").lower()\n",
    "print(total)\n"
   ]
  },
  {
   "cell_type": "code",
   "execution_count": 8,
   "id": "142484c3",
   "metadata": {},
   "outputs": [
    {
     "name": "stdout",
     "output_type": "stream",
     "text": [
      "name of the person you are going to invite:sam\n",
      "sam has been invited\n",
      "Do you want to invite another guest?:yes\n",
      "name of the person you are going to invite:timi\n",
      "timi has been invited\n",
      "Do you want to invite another guest?:no\n",
      "2\n"
     ]
    }
   ],
   "source": [
    "#048 Question Series 3 \n",
    "count = 0\n",
    "userAnswer = 'yes'\n",
    "\n",
    "while userAnswer == 'yes':\n",
    "    userGuestName = input(\"name of the person you are going to invite:\").lower()\n",
    "    print(f'{userGuestName} has been invited')\n",
    "    userAnswer = input(\"Do you want to invite another guest?:\").lower()\n",
    "    count += 1\n",
    "print(count)\n"
   ]
  },
  {
   "cell_type": "code",
   "execution_count": 13,
   "id": "9e4b9016",
   "metadata": {},
   "outputs": [
    {
     "name": "stdout",
     "output_type": "stream",
     "text": [
      "Guess a number: 30\n",
      "too low\n",
      "you can guess again: 50\n",
      "well done, you took: 2 attempts\n"
     ]
    }
   ],
   "source": [
    "#049 Question Series 3 \n",
    "compunm = 50\n",
    "count = 1\n",
    "\n",
    "\n",
    "userNumber = int(input(\"Guess a number: \"))\n",
    "\n",
    "while userNumber != compunm:\n",
    "    if userNumber > compunm :\n",
    "        print('too high')\n",
    "        \n",
    "    \n",
    "    elif userNumber < compunm :\n",
    "        print('too low')\n",
    "        \n",
    "    userNumber = int(input(\"you can guess again: \"))\n",
    "    count += 1\n",
    "print(f'well done, you took: {count} attempts')\n",
    "        \n",
    "\n",
    "    "
   ]
  },
  {
   "cell_type": "code",
   "execution_count": 20,
   "id": "3f264afb",
   "metadata": {},
   "outputs": [
    {
     "name": "stdout",
     "output_type": "stream",
     "text": [
      "enter a number between 10 and 20:3\n",
      "too low\n",
      "you can guess again:22\n",
      "too high\n",
      "you can guess again:20\n",
      "you can guess again:19\n",
      "Thank you\n"
     ]
    }
   ],
   "source": [
    "#050 Question Series 3 \n",
    "\n",
    "userNumber = int(input(\"enter a number between 10 and 20:\"))\n",
    "\n",
    "\n",
    "while  not 10 < userNumber < 20:\n",
    "    if userNumber < 10 :\n",
    "        print('too low')\n",
    "    \n",
    "    elif userNumber > 20 :\n",
    "        print('too high')\n",
    "        \n",
    "    userNumber = int(input(\"you can guess again:\"))\n",
    "    \n",
    "print('Thank you')\n"
   ]
  },
  {
   "cell_type": "code",
   "execution_count": 35,
   "id": "2a3de371",
   "metadata": {},
   "outputs": [
    {
     "name": "stdout",
     "output_type": "stream",
     "text": [
      "there are 10 green bottles hanging on the wall,10 green bottles hanging on the wall, and if 1 green bottle should accidentally fall\n",
      "how many numbers are hanging will be hanging on the wall?:9\n",
      "there will be 9 green bottles hanging on the wall.\n",
      "there are 9 green bottles hanging on the wall,9 green bottles hanging on the wall, and if 1 green bottle should accidentally fall\n",
      "how many numbers are hanging will be hanging on the wall?:8\n",
      "there will be 8 green bottles hanging on the wall.\n",
      "there are 8 green bottles hanging on the wall,8 green bottles hanging on the wall, and if 1 green bottle should accidentally fall\n",
      "how many numbers are hanging will be hanging on the wall?:7\n",
      "there will be 7 green bottles hanging on the wall.\n",
      "there are 7 green bottles hanging on the wall,7 green bottles hanging on the wall, and if 1 green bottle should accidentally fall\n",
      "how many numbers are hanging will be hanging on the wall?:6\n",
      "there will be 6 green bottles hanging on the wall.\n",
      "there are 6 green bottles hanging on the wall,6 green bottles hanging on the wall, and if 1 green bottle should accidentally fall\n",
      "how many numbers are hanging will be hanging on the wall?:5\n",
      "there will be 5 green bottles hanging on the wall.\n",
      "there are 5 green bottles hanging on the wall,5 green bottles hanging on the wall, and if 1 green bottle should accidentally fall\n",
      "how many numbers are hanging will be hanging on the wall?:4\n",
      "there will be 4 green bottles hanging on the wall.\n",
      "there are 4 green bottles hanging on the wall,4 green bottles hanging on the wall, and if 1 green bottle should accidentally fall\n",
      "how many numbers are hanging will be hanging on the wall?:3\n",
      "there will be 3 green bottles hanging on the wall.\n",
      "there are 3 green bottles hanging on the wall,3 green bottles hanging on the wall, and if 1 green bottle should accidentally fall\n",
      "how many numbers are hanging will be hanging on the wall?:2\n",
      "there will be 2 green bottles hanging on the wall.\n",
      "there are 2 green bottles hanging on the wall,2 green bottles hanging on the wall, and if 1 green bottle should accidentally fall\n",
      "how many numbers are hanging will be hanging on the wall?:1\n",
      "there will be 1 green bottles hanging on the wall.\n",
      "there are 1 green bottles hanging on the wall,1 green bottles hanging on the wall, and if 1 green bottle should accidentally fall\n",
      "how many numbers are hanging will be hanging on the wall?:0\n",
      "there are no more green bottles hanging on the wall\n"
     ]
    }
   ],
   "source": [
    "#051 Question Series 3 \n",
    "\n",
    "num = 10\n",
    "\n",
    "while  num >= 1:\n",
    "    print(f'there are {num} green bottles hanging on the wall,{num} green bottles hanging on the wall, and if 1 green bottle should accidentally fall')\n",
    "    userNumber = int(input(\"how many numbers are hanging will be hanging on the wall?:\"))\n",
    "    if userNumber == num - 1:\n",
    "        num -= 1\n",
    "        if num == 0:\n",
    "            print('there are no more green bottles hanging on the wall')\n",
    "        else :\n",
    "            print(f'there will be {num} green bottles hanging on the wall.')\n",
    "    else :\n",
    "        print('no Try agian')\n",
    "\n"
   ]
  },
  {
   "cell_type": "code",
   "execution_count": 46,
   "id": "34e54d72",
   "metadata": {},
   "outputs": [
    {
     "name": "stdout",
     "output_type": "stream",
     "text": [
      "('IRAN', 'USA', 'INDIA', 'RUSSIA', 'IRAQ')\n",
      "enter one of the countries:iran\n",
      "0\n"
     ]
    }
   ],
   "source": [
    "#069 Question Series 4 \n",
    "\n",
    "countries = (\"IRAN\", \"USA\", \"INDIA\",'RUSSIA','IRAQ')\n",
    "print(countries)\n",
    "userCountry = input(\"enter one of the countries:\").upper()\n",
    "if userCountry in countries :\n",
    "    print(thistuple.index(userCountry))\n"
   ]
  },
  {
   "cell_type": "code",
   "execution_count": 51,
   "id": "caa86f65",
   "metadata": {},
   "outputs": [
    {
     "name": "stdout",
     "output_type": "stream",
     "text": [
      "('IRAN', 'USA', 'INDIA', 'RUSSIA', 'IRAQ')\n",
      "enter one of the countries:india\n",
      "enter one of the countries:3\n",
      "2\n",
      "3\n",
      "3\n",
      "3\n",
      "3\n",
      "3\n"
     ]
    }
   ],
   "source": [
    "#071 Question Series 4 \n",
    "\n",
    "\n",
    "## Not understanding the question\n",
    "\n",
    "countries = (\"IRAN\", \"USA\", \"INDIA\",'RUSSIA','IRAQ')\n",
    "print(countries)\n",
    "userCountry = input(\"enter one of the countries:\").upper()\n",
    "userNum = int(input(\"enter one of the countries:\"))\n",
    "if userCountry in countries :\n",
    "    print(thistuple.index(userCountry))\n",
    "    for i in userCountry:\n",
    "        print(userNum)\n",
    "\n"
   ]
  },
  {
   "cell_type": "code",
   "execution_count": 53,
   "id": "d069abf2",
   "metadata": {},
   "outputs": [
    {
     "ename": "KeyboardInterrupt",
     "evalue": "Interrupted by user",
     "output_type": "error",
     "traceback": [
      "\u001b[1;31m---------------------------------------------------------------------------\u001b[0m",
      "\u001b[1;31mKeyboardInterrupt\u001b[0m                         Traceback (most recent call last)",
      "Input \u001b[1;32mIn [53]\u001b[0m, in \u001b[0;36m<cell line: 4>\u001b[1;34m()\u001b[0m\n\u001b[0;32m      1\u001b[0m \u001b[38;5;66;03m#071 Question Series 4 \u001b[39;00m\n\u001b[0;32m      3\u001b[0m sports \u001b[38;5;241m=\u001b[39m [\u001b[38;5;124m\"\u001b[39m\u001b[38;5;124mfootball\u001b[39m\u001b[38;5;124m\"\u001b[39m, \u001b[38;5;124m\"\u001b[39m\u001b[38;5;124mbasketball\u001b[39m\u001b[38;5;124m\"\u001b[39m]\n\u001b[1;32m----> 4\u001b[0m userSport \u001b[38;5;241m=\u001b[39m \u001b[38;5;28;43minput\u001b[39;49m\u001b[43m(\u001b[49m\u001b[38;5;124;43m\"\u001b[39;49m\u001b[38;5;124;43menter your favourite sport:\u001b[39;49m\u001b[38;5;124;43m\"\u001b[39;49m\u001b[43m)\u001b[49m\u001b[38;5;241m.\u001b[39mlower()\n\u001b[0;32m      5\u001b[0m sports\u001b[38;5;241m.\u001b[39mappend(userSport\u001b[38;5;241m.\u001b[39mindex())\n\u001b[0;32m      6\u001b[0m sports\u001b[38;5;241m.\u001b[39msort()\n",
      "File \u001b[1;32m~\\anaconda3\\lib\\site-packages\\ipykernel\\kernelbase.py:1075\u001b[0m, in \u001b[0;36mKernel.raw_input\u001b[1;34m(self, prompt)\u001b[0m\n\u001b[0;32m   1071\u001b[0m \u001b[38;5;28;01mif\u001b[39;00m \u001b[38;5;129;01mnot\u001b[39;00m \u001b[38;5;28mself\u001b[39m\u001b[38;5;241m.\u001b[39m_allow_stdin:\n\u001b[0;32m   1072\u001b[0m     \u001b[38;5;28;01mraise\u001b[39;00m StdinNotImplementedError(\n\u001b[0;32m   1073\u001b[0m         \u001b[38;5;124m\"\u001b[39m\u001b[38;5;124mraw_input was called, but this frontend does not support input requests.\u001b[39m\u001b[38;5;124m\"\u001b[39m\n\u001b[0;32m   1074\u001b[0m     )\n\u001b[1;32m-> 1075\u001b[0m \u001b[38;5;28;01mreturn\u001b[39;00m \u001b[38;5;28;43mself\u001b[39;49m\u001b[38;5;241;43m.\u001b[39;49m\u001b[43m_input_request\u001b[49m\u001b[43m(\u001b[49m\n\u001b[0;32m   1076\u001b[0m \u001b[43m    \u001b[49m\u001b[38;5;28;43mstr\u001b[39;49m\u001b[43m(\u001b[49m\u001b[43mprompt\u001b[49m\u001b[43m)\u001b[49m\u001b[43m,\u001b[49m\n\u001b[0;32m   1077\u001b[0m \u001b[43m    \u001b[49m\u001b[38;5;28;43mself\u001b[39;49m\u001b[38;5;241;43m.\u001b[39;49m\u001b[43m_parent_ident\u001b[49m\u001b[43m[\u001b[49m\u001b[38;5;124;43m\"\u001b[39;49m\u001b[38;5;124;43mshell\u001b[39;49m\u001b[38;5;124;43m\"\u001b[39;49m\u001b[43m]\u001b[49m\u001b[43m,\u001b[49m\n\u001b[0;32m   1078\u001b[0m \u001b[43m    \u001b[49m\u001b[38;5;28;43mself\u001b[39;49m\u001b[38;5;241;43m.\u001b[39;49m\u001b[43mget_parent\u001b[49m\u001b[43m(\u001b[49m\u001b[38;5;124;43m\"\u001b[39;49m\u001b[38;5;124;43mshell\u001b[39;49m\u001b[38;5;124;43m\"\u001b[39;49m\u001b[43m)\u001b[49m\u001b[43m,\u001b[49m\n\u001b[0;32m   1079\u001b[0m \u001b[43m    \u001b[49m\u001b[43mpassword\u001b[49m\u001b[38;5;241;43m=\u001b[39;49m\u001b[38;5;28;43;01mFalse\u001b[39;49;00m\u001b[43m,\u001b[49m\n\u001b[0;32m   1080\u001b[0m \u001b[43m\u001b[49m\u001b[43m)\u001b[49m\n",
      "File \u001b[1;32m~\\anaconda3\\lib\\site-packages\\ipykernel\\kernelbase.py:1120\u001b[0m, in \u001b[0;36mKernel._input_request\u001b[1;34m(self, prompt, ident, parent, password)\u001b[0m\n\u001b[0;32m   1117\u001b[0m             \u001b[38;5;28;01mbreak\u001b[39;00m\n\u001b[0;32m   1118\u001b[0m \u001b[38;5;28;01mexcept\u001b[39;00m \u001b[38;5;167;01mKeyboardInterrupt\u001b[39;00m:\n\u001b[0;32m   1119\u001b[0m     \u001b[38;5;66;03m# re-raise KeyboardInterrupt, to truncate traceback\u001b[39;00m\n\u001b[1;32m-> 1120\u001b[0m     \u001b[38;5;28;01mraise\u001b[39;00m \u001b[38;5;167;01mKeyboardInterrupt\u001b[39;00m(\u001b[38;5;124m\"\u001b[39m\u001b[38;5;124mInterrupted by user\u001b[39m\u001b[38;5;124m\"\u001b[39m) \u001b[38;5;28;01mfrom\u001b[39;00m \u001b[38;5;28mNone\u001b[39m\n\u001b[0;32m   1121\u001b[0m \u001b[38;5;28;01mexcept\u001b[39;00m \u001b[38;5;167;01mException\u001b[39;00m:\n\u001b[0;32m   1122\u001b[0m     \u001b[38;5;28mself\u001b[39m\u001b[38;5;241m.\u001b[39mlog\u001b[38;5;241m.\u001b[39mwarning(\u001b[38;5;124m\"\u001b[39m\u001b[38;5;124mInvalid Message:\u001b[39m\u001b[38;5;124m\"\u001b[39m, exc_info\u001b[38;5;241m=\u001b[39m\u001b[38;5;28;01mTrue\u001b[39;00m)\n",
      "\u001b[1;31mKeyboardInterrupt\u001b[0m: Interrupted by user"
     ]
    }
   ],
   "source": [
    "#071 Question Series 4 \n",
    "\n",
    "sports = [\"football\", \"basketball\"]\n",
    "userSport = input(\"enter your favourite sport:\").lower()\n",
    "sports.append(userSport)\n",
    "sports.sort()\n",
    "print(sports)\n"
   ]
  },
  {
   "cell_type": "code",
   "execution_count": 58,
   "id": "d0e7f330",
   "metadata": {},
   "outputs": [
    {
     "name": "stdout",
     "output_type": "stream",
     "text": [
      "enter the subjects you hate :math\n",
      "['chemistery', 'sport', 'history', 'music', 'programming']\n"
     ]
    }
   ],
   "source": [
    "#072 Question Series 4 \n",
    "\n",
    "subjects = [\"math\", \"chemistery\",\"sport\",\"history\",\"music\",\"programming\"]\n",
    "userHateSub = input(\"enter the subjects you hate :\").lower()\n",
    "subjects.pop(subjects.index(userHateSub))\n",
    "print(subjects)\n"
   ]
  },
  {
   "cell_type": "code",
   "execution_count": 83,
   "id": "b61d3c9c",
   "metadata": {},
   "outputs": [
    {
     "name": "stdout",
     "output_type": "stream",
     "text": [
      "enter the foods you like :pizza\n",
      "enter the foods you like :sad\n",
      "enter the foods you like :d\n",
      "enter the foods you like :asd\n",
      "{1: 'pizza', 2: 'sad', 3: 'd', 4: 'asd'}\n",
      "enter the index of the food you want to remove :2\n",
      "{1: 'pizza', 3: 'd', 4: 'asd'}\n",
      "['asd', 'd', 'pizza']\n"
     ]
    }
   ],
   "source": [
    "#073 Question Series 4 \n",
    "\n",
    "favFoodDic = {}\n",
    "\n",
    "for i in range(4):\n",
    "    userFavFood = input(\"enter the foods you like :\").lower()\n",
    "    favFoodDic[i+1] = userFavFood\n",
    "print(favFoodDic)\n",
    "userFavFoodRemove = int(input(\"enter the index of the food you want to remove :\"))\n",
    "favFoodDic.pop(userFavFoodRemove)\n",
    "print(favFoodDic)\n",
    "favFoodDiclist = list(favFoodDic.values())\n",
    "favFoodDiclist.sort()\n",
    "print(favFoodDiclist)"
   ]
  },
  {
   "cell_type": "code",
   "execution_count": 86,
   "id": "0a23637d",
   "metadata": {},
   "outputs": [
    {
     "name": "stdout",
     "output_type": "stream",
     "text": [
      "Enter a starting number between 0 and 4 :1\n",
      "Enter a end number between 5 and 9 :8\n",
      "['blue', 'yellow', 'cyan', 'black', 'white', 'green', 'brown']\n"
     ]
    }
   ],
   "source": [
    "#074 Question Series 4 \n",
    "\n",
    "colorList = ['red','blue','yellow','cyan','black','white','green','brown','lemon','gray']\n",
    "\n",
    "userStartNum = int(input(\"Enter a starting number between 0 and 4 :\"))\n",
    "userEndNum = int(input(\"Enter a end number between 5 and 9 :\"))\n",
    "\n",
    "if 0 < userStartNum < 4 and 5 < userEndNum < 9 :\n",
    "    print(colorList[userStartNum:userEndNum])\n"
   ]
  },
  {
   "cell_type": "code",
   "execution_count": 105,
   "id": "0e8afa83",
   "metadata": {},
   "outputs": [
    {
     "name": "stdout",
     "output_type": "stream",
     "text": [
      "111\n",
      "222\n",
      "333\n",
      "444\n",
      "Enter a  number :123\n",
      "123 is not in the list\n"
     ]
    }
   ],
   "source": [
    "#075 Question Series 4 \n",
    "\n",
    "numList = [111, 222, 333, 444]\n",
    "\n",
    "for i in range(len(numList)):\n",
    "    print(numList[i])\n",
    "    \n",
    "userNum = int(input(\"Enter a  number :\"))\n",
    "\n",
    "for i in range(len(numList)):\n",
    "    if userNum == numList[i]:\n",
    "        print(i)\n",
    "        break\n",
    "    else : \n",
    "        print(f'{userNum} is not in the list')\n",
    "        break\n",
    "        "
   ]
  },
  {
   "cell_type": "code",
   "execution_count": 107,
   "id": "dacc6eea",
   "metadata": {},
   "outputs": [
    {
     "name": "stdout",
     "output_type": "stream",
     "text": [
      "name the people you want to invite :jim\n",
      "name the people you want to invite :carry\n",
      "name the people you want to invite :karen\n",
      "do you want to add another guest:yes\n",
      "name the people you want to invite :mob\n",
      "do you want to add another guest:no\n",
      "4\n"
     ]
    }
   ],
   "source": [
    "#076 Question Series 4 \n",
    "\n",
    "guestList = []\n",
    "guestCount = 0\n",
    "\n",
    "for i in range(3):\n",
    "    userGuest = input(\"name the people you want to invite :\").lower()\n",
    "    guestList.append(userGuest)\n",
    "    guestCount += 1\n",
    "\n",
    "    \n",
    "userAnswer = input(\"do you want to add another guest:\").lower()\n",
    "\n",
    "while userAnswer == 'yes':\n",
    "    userGuest = input(\"name the people you want to invite :\").lower()\n",
    "    guestList.append(userGuest)\n",
    "    guestCount += 1\n",
    "    userAnswer = input(\"do you want to add another guest:\").lower()\n",
    "if userAnswer == 'no':\n",
    "    print(guestCount)\n",
    "        "
   ]
  },
  {
   "cell_type": "code",
   "execution_count": 111,
   "id": "167d4820",
   "metadata": {},
   "outputs": [
    {
     "name": "stdout",
     "output_type": "stream",
     "text": [
      "name the people you want to invite :jim\n",
      "name the people you want to invite :sad\n",
      "name the people you want to invite :dsa\n",
      "do you want to add another guest:no\n",
      "3\n",
      "['jim', 'sad', 'dsa']\n",
      "Enter of the names of a guest:jim\n",
      "0\n",
      "do you still want to invite jim to the party? :no\n",
      "['sad', 'dsa']\n"
     ]
    }
   ],
   "source": [
    "#077 Question Series 4 \n",
    "\n",
    "guestList = []\n",
    "guestCount = 0\n",
    "\n",
    "for i in range(3):\n",
    "    userGuest = input(\"name the people you want to invite :\").lower()\n",
    "    guestList.append(userGuest)\n",
    "    guestCount += 1\n",
    "\n",
    "    \n",
    "userAnswer = input(\"do you want to add another guest:\").lower()\n",
    "\n",
    "while userAnswer == 'yes':\n",
    "    userGuest = input(\"name the people you want to invite :\").lower()\n",
    "    guestList.append(userGuest)\n",
    "    guestCount += 1\n",
    "    userAnswer = input(\"do you want to add another guest:\").lower()\n",
    "if userAnswer == 'no':\n",
    "    print(guestCount)\n",
    "print(guestList)\n",
    "userAnswer1 = input(\"Enter of the names of a guest:\").lower() \n",
    "if userAnswer1 in guestList:\n",
    "    print(guestList.index(userAnswer1))\n",
    "    userAnswer2 = input(f'do you still want to invite {userAnswer1} to the party? :').lower()\n",
    "    if userAnswer2 == 'no':\n",
    "        guestList.pop(guestList.index(userAnswer1))\n",
    "    \n",
    "print(guestList)"
   ]
  },
  {
   "cell_type": "code",
   "execution_count": 115,
   "id": "ac7b1ded",
   "metadata": {},
   "outputs": [
    {
     "name": "stdout",
     "output_type": "stream",
     "text": [
      "friends\n",
      "himym\n",
      "13 reasons why\n",
      "bojack horsman\n",
      "name of the new tv show you want to insert:new\n",
      "index number of the new tv show you want to insert to:0\n",
      "['new', 'friends', 'himym', '13 reasons why', 'bojack horsman']\n"
     ]
    }
   ],
   "source": [
    "#078 Question Series 4 \n",
    "\n",
    "TvShowList = ['friends','himym','13 reasons why','bojack horsman']\n",
    "\n",
    "\n",
    "for i in range(len(TvShowList)):\n",
    "    print(TvShowList[i])\n",
    "    \n",
    "newTvName = input(\"name of the new tv show you want to insert:\").lower()\n",
    "newTvPosition = int(input(\"index number of the new tv show you want to insert to:\"))\n",
    "TvShowList.insert(newTvPosition, newTvName)\n",
    "print(TvShowList)\n",
    "    \n"
   ]
  },
  {
   "cell_type": "code",
   "execution_count": 117,
   "id": "3348fe45",
   "metadata": {},
   "outputs": [
    {
     "name": "stdout",
     "output_type": "stream",
     "text": [
      "enter a number1\n",
      "[1]\n",
      "enter a number2\n",
      "[1, 2]\n",
      "enter a number3\n",
      "[1, 2, 3]\n",
      "do you still want the last number ?:no\n",
      "[1, 2]\n"
     ]
    }
   ],
   "source": [
    "#079 Question Series 4 \n",
    "\n",
    "nums = []\n",
    "\n",
    "\n",
    "for i in range(3):\n",
    "    userNum = int(input(\"enter a number\"))\n",
    "    nums.append(userNum)\n",
    "    print(nums)\n",
    "userAnswer = input(\"do you still want the last number ?:\").lower()   \n",
    "if userAnswer == 'no':\n",
    "    nums.pop()\n",
    "    print(nums)\n"
   ]
  },
  {
   "cell_type": "code",
   "execution_count": 154,
   "id": "b19bbd7a",
   "metadata": {},
   "outputs": [
    {
     "name": "stdout",
     "output_type": "stream",
     "text": [
      "8 weeks, 54 days, 1:13:06.833462\n",
      "the remaining time until the 2023 new  year is 166538 micro seconds, 53 seconds, 22 hours, 55 days, 8 weeks, 1 months, 0 years  \n"
     ]
    }
   ],
   "source": [
    "# Datetime question in the class\n",
    "# دو تا متغییر درست کنید مثل ا و ب توی ا زمان الان رو بریزید و توی ب  زمان خودمون بنویسیم \n",
    "import datetime\n",
    "\n",
    "x = datetime.datetime.now()\n",
    "\n",
    "microSecTil2023 = int(y.strftime(\"%f\")) - int(x.strftime(\"%f\"))\n",
    "secTil2023 = int(y.strftime(\"%S\")) - int(x.strftime(\"%S\"))\n",
    "hourTil2023 = int(y.strftime(\"%H\")) - int(x.strftime(\"%H\"))\n",
    "dayTil2023 = int(y.strftime(\"%j\")) - int(x.strftime(\"%j\"))\n",
    "weekTil2023 = int(y.strftime(\"%V\")) - int(x.strftime(\"%V\"))\n",
    "monthTil2023 = int(y.strftime(\"%m\")) - int(x.strftime(\"%m\"))\n",
    "yearTil2023 = int(y.strftime(\"%Y\")) - int(x.strftime(\"%Y\"))\n",
    "\n",
    "y = datetime.datetime(2022, 12, 29)\n",
    "\n",
    "# alternative \n",
    "#print(y-x)\n",
    "print(f'the remaining time until the 2023 new  year is {abs(microSecTil2023)} micro seconds, {abs(secTil2023)} seconds, {abs(hourTil2023)} hours, {abs(dayTil2023)} days, {abs(weekTil2023)} weeks, {abs(monthTil2023)} months, {abs(yearTil2023)} years  ')\n"
   ]
  },
  {
   "cell_type": "code",
   "execution_count": null,
   "id": "c28ab9f5",
   "metadata": {},
   "outputs": [],
   "source": []
  },
  {
   "cell_type": "code",
   "execution_count": null,
   "id": "468a430f",
   "metadata": {},
   "outputs": [],
   "source": []
  }
 ],
 "metadata": {
  "kernelspec": {
   "display_name": "Python 3 (ipykernel)",
   "language": "python",
   "name": "python3"
  },
  "language_info": {
   "codemirror_mode": {
    "name": "ipython",
    "version": 3
   },
   "file_extension": ".py",
   "mimetype": "text/x-python",
   "name": "python",
   "nbconvert_exporter": "python",
   "pygments_lexer": "ipython3",
   "version": "3.9.12"
  }
 },
 "nbformat": 4,
 "nbformat_minor": 5
}
